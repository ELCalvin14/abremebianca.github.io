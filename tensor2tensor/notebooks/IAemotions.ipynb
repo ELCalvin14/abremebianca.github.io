{
  "cells": [
    {
      "cell_type": "markdown",
      "metadata": {
        "id": "view-in-github",
        "colab_type": "text"
      },
      "source": [
        "<a href=\"https://colab.research.google.com/github/ELCalvin14/abremeana.github.io/blob/main/tensor2tensor/notebooks/IAemotions.ipynb\" target=\"_parent\"><img src=\"https://colab.research.google.com/assets/colab-badge.svg\" alt=\"Open In Colab\"/></a>"
      ]
    },
    {
      "cell_type": "code",
      "source": [
        "import tensorflow as tf\n",
        "import numpy as np\n",
        "from sklearn.preprocessing import StandardScaler\n",
        "\n",
        "# Supongamos que tienes los datos de entrada (diagnósticos emocionales) y salida (estados emocionales) de tus usuarios\n",
        "# en las listas input_data y output_data respectivamente.\n",
        "\n",
        "# Estructura de ejemplo para los datos\n",
        "input_data = [\n",
        "    [1, 2, 3, 4, 5, 4, 3],  # Usuario 1\n",
        "    [2, 3, 4, 5, 4, 3, 2],  # Usuario 2\n",
        "    [3, 4, 5, 4, 3, 2, 1],  # Usuario 3\n",
        "    [5, 4, 3, 2, 1, 2, 3],  # Usuario 4\n",
        "    [4, 5, 4, 3, 2, 3, 4],  # Usuario 5\n",
        "    [2, 1, 3, 2, 4, 5, 4],  # Usuario 6\n",
        "    [3, 5, 4, 2, 3, 1, 4],  # Usuario 7\n",
        "    [4, 2, 3, 1, 4, 5, 2],  # Usuario 8\n",
        "    [5, 3, 2, 4, 1, 3, 5],  # Usuario 9\n",
        "    [1, 3, 4, 2, 5, 4, 1]   # Usuario 10\n",
        "]\n",
        "\n",
        "output_data = [\n",
        "    [0, 1, 0, 0, 0],  # Estado emocional para Usuario 1\n",
        "    [0, 0, 1, 0, 0],  # Estado emocional para Usuario 2\n",
        "    [0, 0, 0, 1, 0],  # Estado emocional para Usuario 3\n",
        "    [0, 1, 0, 0, 0],  # Estado emocional para Usuario 4\n",
        "    [0, 0, 0, 0, 1],  # Estado emocional para Usuario 5\n",
        "    [0, 0, 0, 1, 0],  # Estado emocional para Usuario 6\n",
        "    [0, 0, 0, 0, 1],  # Estado emocional para Usuario 7\n",
        "    [0, 1, 0, 0, 0],  # Estado emocional para Usuario 8\n",
        "    [0, 0, 0, 1, 0],  # Estado emocional para Usuario 9\n",
        "    [0, 0, 0, 0, 1]   # Estado emocional para Usuario 10\n",
        "]\n",
        "\n",
        "# Convertir los datos a arrays de NumPy\n",
        "input_data = np.array(input_data, dtype=float)\n",
        "output_data = np.array(output_data, dtype=float)\n",
        "\n",
        "# Normalizar los datos\n",
        "scaler = StandardScaler()\n",
        "input_data_normalized = scaler.fit_transform(input_data)\n",
        "\n",
        "# Crear el modelo\n",
        "capa = tf.keras.layers.Dense(units=5, activation='softmax')  # 5 estados emocionales\n",
        "modelo = tf.keras.Sequential([\n",
        "    tf.keras.layers.Dense(64, activation='relu', input_shape=[7]),\n",
        "    tf.keras.layers.Dropout(0.5),\n",
        "    tf.keras.layers.Dense(32, activation='relu'),\n",
        "    tf.keras.layers.Dropout(0.3),\n",
        "    capa\n",
        "    ])\n",
        "\n",
        "# Compilar el modelo\n",
        "modelo.compile(\n",
        "    optimizer=tf.keras.optimizers.Adam(0.1), # Optimizar Adam con una tasa de aprendizaje de 0.1.\n",
        "    loss='categorical_crossentropy',  # Usar la entropía cruzada categórica para problemas de clasificación multiclase\n",
        "    metrics=['accuracy'] # Métrica utilizada para evaluar el rendimiento del modelo durante el entrenamiento y la evaluación\n",
        ")\n"
      ],
      "metadata": {
        "id": "edJ3Q4IBVBv9"
      },
      "execution_count": 49,
      "outputs": []
    },
    {
      "cell_type": "code",
      "source": [
        "# Comenzar el entrenamiento\n",
        "print('Comenzando entrenamiento...')\n",
        "historial = modelo.fit(input_data, output_data, epochs=1000, verbose=False)\n",
        "print('Modelo Entrenado!')"
      ],
      "metadata": {
        "colab": {
          "base_uri": "https://localhost:8080/"
        },
        "id": "JX0btjWiVC7p",
        "outputId": "6d365ef4-2a46-4047-9a83-bab8b4e1e6c3"
      },
      "execution_count": 69,
      "outputs": [
        {
          "output_type": "stream",
          "name": "stdout",
          "text": [
            "Comenzando entrenamiento...\n",
            "Modelo Entrenado!\n"
          ]
        }
      ]
    },
    {
      "cell_type": "code",
      "source": [
        "import matplotlib.pyplot as plt\n",
        "plt.xlabel(\"# EPOCA\")\n",
        "plt.ylabel(\"Magnitud de perdida\")\n",
        "plt.plot(historial.history[\"loss\"])"
      ],
      "metadata": {
        "colab": {
          "base_uri": "https://localhost:8080/",
          "height": 466
        },
        "id": "xgP_ouDyVJ0s",
        "outputId": "698a833e-460f-468a-f498-f095cd7c5aad"
      },
      "execution_count": 70,
      "outputs": [
        {
          "output_type": "execute_result",
          "data": {
            "text/plain": [
              "[<matplotlib.lines.Line2D at 0x790e59d1a680>]"
            ]
          },
          "metadata": {},
          "execution_count": 70
        },
        {
          "output_type": "display_data",
          "data": {
            "text/plain": [
              "<Figure size 640x480 with 1 Axes>"
            ],
            "image/png": "[encoded data removed]"
          },
          "metadata": {}
        }
      ]
    },
    {
      "cell_type": "code",
      "source": [
        "# Ahora puedes utilizar el modelo entrenado para hacer predicciones basadas en los últimos 7 diagnósticos emocionales de un usuario.\n",
        "# Por ejemplo, supongamos que tienes nuevos datos de diagnósticos emocionales para un usuario en la lista new_input_data.\n",
        "new_input_data = np.array([[2, 2, 2, 2, 2, 2, 2]])  # Ejemplo de nuevos diagnósticos emocionales\n",
        "\n",
        "# Realizar la predicción\n",
        "prediccion = modelo.predict(new_input_data)\n",
        "\n",
        "# La predicción te dará las probabilidades para cada estado emocional, puedes tomar el estado con la probabilidad más alta como la predicción final.\n",
        "estado_emocional_predicho = np.argmax(prediccion, axis=1)\n",
        "\n",
        "print('Predicción de estado emocional:', estado_emocional_predicho)"
      ],
      "metadata": {
        "colab": {
          "base_uri": "https://localhost:8080/"
        },
        "id": "pENxDoaiVgYy",
        "outputId": "022fff46-ea62-414e-d698-a4e5a752186c"
      },
      "execution_count": 71,
      "outputs": [
        {
          "output_type": "stream",
          "name": "stdout",
          "text": [
            "1/1 [==============================] - 0s 24ms/step\n",
            "Predicción de estado emocional: [3]\n"
          ]
        }
      ]
    }
  ],
  "metadata": {
    "colab": {
      "name": "Tensor2Tensor Intro",
      "provenance": [],
      "include_colab_link": true
    },
    "kernelspec": {
      "display_name": "Python 3",
      "name": "python3"
    }
  },
  "nbformat": 4,
  "nbformat_minor": 0
}